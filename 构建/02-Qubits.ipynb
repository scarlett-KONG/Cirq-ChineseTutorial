{
 "cells": [
  {
   "cell_type": "code",
   "execution_count": 1,
   "metadata": {},
   "outputs": [],
   "source": [
    "try:\n",
    "    import cirq\n",
    "except ImportError:\n",
    "    print(\"installing cirq...\")\n",
    "    !pip install --quiet cirq\n",
    "    print(\"installed cirq.\")\n",
    "    import cirq"
   ]
  },
  {
   "cell_type": "markdown",
   "metadata": {},
   "source": [
    "量子比特是量子信息的基本单位，量子比特是一个两级系统，可以存在于这两种可能状态的叠加态中（|0> and |1>）。\n",
    "\n",
    "Cirq还支持更高维度的系统，即所谓的qudits，但在这里暂时不做讨论。\n",
    "\n",
    "在Cirq中，量子比特只是一个具有标识符的抽象对象，一个cirq.Qid，以及一些其他潜在的元数据，用于表示可以用于验证电路的设备特定属性。与真实的量子比特不同，Cirq的量子比特没有任何状态。其原因是量子比特的实际状态由量子处理器维护，或者在模拟的情况下，由模拟的状态向量维护。\n"
   ]
  }
 ],
 "metadata": {
  "kernelspec": {
   "display_name": "Python 3",
   "language": "python",
   "name": "python3"
  },
  "language_info": {
   "codemirror_mode": {
    "name": "ipython",
    "version": 3
   },
   "file_extension": ".py",
   "mimetype": "text/x-python",
   "name": "python",
   "nbconvert_exporter": "python",
   "pygments_lexer": "ipython3",
   "version": "3.9.10"
  }
 },
 "nbformat": 4,
 "nbformat_minor": 2
}
