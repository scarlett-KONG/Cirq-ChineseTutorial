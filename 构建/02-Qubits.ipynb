{
 "cells": [
  {
   "cell_type": "code",
   "execution_count": 1,
   "metadata": {},
   "outputs": [],
   "source": [
    "try:\n",
    "    import cirq\n",
    "except ImportError:\n",
    "    print(\"installing cirq...\")\n",
    "    !pip install --quiet cirq\n",
    "    print(\"installed cirq.\")\n",
    "    import cirq"
   ]
  },
  {
   "cell_type": "markdown",
   "metadata": {},
   "source": [
    "量子比特是量子信息的基本单位，量子比特是一个两级系统，可以存在于这两种可能状态的叠加态中（|0> and |1>）。\n",
    "\n",
    "Cirq还支持更高维度的系统，即所谓的qudits，但在这里暂时不做讨论。\n",
    "\n",
    "在Cirq中，量子比特只是一个具有标识符的抽象对象，一个cirq.Qid，以及一些其他潜在的元数据，用于表示可以用于验证电路的设备特定属性。与真实的量子比特不同，Cirq的量子比特没有任何状态。其原因是量子比特的实际状态由量子处理器维护，或者在模拟的情况下，由模拟的状态向量维护。"
   ]
  },
  {
   "cell_type": "code",
   "execution_count": 2,
   "metadata": {},
   "outputs": [
    {
     "name": "stdout",
     "output_type": "stream",
     "text": [
      "myqubit: ───H───\n",
      "结果:\n",
      "measurements: (no measurements)\n",
      "\n",
      "qubits: (cirq.NamedQubit('myqubit'),)\n",
      "output vector: 0.707|0⟩ + 0.707|1⟩\n",
      "\n",
      "phase:\n",
      "output vector: |⟩\n"
     ]
    }
   ],
   "source": [
    "# 创建一个量子比特并命名为“myqubit”\n",
    "qubit = cirq.NamedQubit(\"myqubit\")\n",
    "# 创建|0>和|1>的等幅叠加态\n",
    "circuit = cirq.Circuit(cirq.H(qubit))\n",
    "# 查看电路左侧的\"myqubit\"标识符\n",
    "print(circuit)\n",
    "# 运行模拟\n",
    "result = cirq.Simulator().simulate(circuit)\n",
    "print(\"结果:\")\n",
    "print(result)\n",
    "\n",
    "#"
   ]
  },
  {
   "cell_type": "markdown",
   "metadata": {},
   "source": [
    "## 量子比特类型\n",
    "在Cirq中有三种主要的量子比特类型：\n",
    "\n",
    "- **cirq.NamedQubit** - 一个只有名称的抽象量子比特，没有其他属性。当你不需要其他属性且不需要批量创建大量量子比特时使用。\n",
    "- **cirq.LineQubit** - 一个在线上由整数索引标识的量子比特。一些设备有一系列的量子比特，LineQubit可以用于表示这一点。此外，`cirq.LineQubit.range(3)`是创建3个量子比特的非常简单的方法。\n",
    "- **cirq.GridQubit** - 一个放置在网格上并由二维坐标标识的量子比特。大多数Google的芯片使用GridQubits表示。\n",
    "\n",
    "一些提供商提供他们自己的量子比特类型。例如，Pasqal定义了TwoDQubit和ThreeDQubit，以表示在验证电路时中性原子的特定拓扑结构。\n"
   ]
  }
 ],
 "metadata": {
  "kernelspec": {
   "display_name": "Python 3",
   "language": "python",
   "name": "python3"
  },
  "language_info": {
   "codemirror_mode": {
    "name": "ipython",
    "version": 3
   },
   "file_extension": ".py",
   "mimetype": "text/x-python",
   "name": "python",
   "nbconvert_exporter": "python",
   "pygments_lexer": "ipython3",
   "version": "3.9.10"
  }
 },
 "nbformat": 4,
 "nbformat_minor": 2
}
