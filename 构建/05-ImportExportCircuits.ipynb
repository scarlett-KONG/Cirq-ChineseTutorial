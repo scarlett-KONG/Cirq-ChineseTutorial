{
 "cells": [
  {
   "cell_type": "markdown",
   "metadata": {},
   "source": [
    "# 导入、导出电路\n",
    "\n",
    "参见[Import/Export Circuit](https://quantumai.google/cirq/build/interop)"
   ]
  }
 ],
 "metadata": {
  "language_info": {
   "name": "python"
  }
 },
 "nbformat": 4,
 "nbformat_minor": 2
}
